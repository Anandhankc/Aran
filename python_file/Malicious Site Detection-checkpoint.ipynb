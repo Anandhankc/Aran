{
 "cells": [
  {
   "cell_type": "code",
   "execution_count": 1,
   "id": "258ec8fa",
   "metadata": {},
   "outputs": [],
   "source": [
    "import pandas as pd\n",
    "data1 = pd.read_csv('malicious_phish_backup.csv')\n",
    "data2 = pd.read_csv('_test_data.csv')\n",
    "data3 = pd.read_csv('_train_data.csv')\n",
    "data4 = pd.read_csv('test_bad_cleaned.csv')"
   ]
  },
  {
   "cell_type": "code",
   "execution_count": 53,
   "id": "edea3a3a",
   "metadata": {},
   "outputs": [],
   "source": [
    "df = pd.concat([data1, data2,data3,data4])"
   ]
  },
  {
   "cell_type": "code",
   "execution_count": 3,
   "id": "8925d0d4",
   "metadata": {},
   "outputs": [],
   "source": [
    "import re\n",
    "def makeTokens(f):\n",
    "    total_tokens = re.split(r\"[\\./-:]\",f)\n",
    "    total_tokens = [token for token in total_tokens if token not in {\"https\",\"http\",\"\"}]  #remove redundant tokens\n",
    "     \n",
    "    return total_tokens"
   ]
  },
  {
   "cell_type": "code",
   "execution_count": 143,
   "id": "b27c135c",
   "metadata": {},
   "outputs": [],
   "source": [
    "from sklearn.linear_model import LogisticRegression\n",
    "from sklearn.tree import DecisionTreeClassifier\n",
    "from sklearn.model_selection import train_test_split\n",
    "from sklearn.feature_extraction.text import TfidfVectorizer\n",
    "from sklearn.naive_bayes import GaussianNB\n",
    "import pickle"
   ]
  },
  {
   "cell_type": "code",
   "execution_count": null,
   "id": "a1c93bef",
   "metadata": {
    "scrolled": true
   },
   "outputs": [
    {
     "name": "stderr",
     "output_type": "stream",
     "text": [
      "C:\\Users\\ARUN\\anaconda3\\lib\\site-packages\\sklearn\\feature_extraction\\text.py:489: UserWarning: The parameter 'token_pattern' will not be used since 'tokenizer' is not None'\n",
      "  warnings.warn(\"The parameter 'token_pattern' will not be used\"\n"
     ]
    }
   ],
   "source": [
    "# vectorizer training\n",
    "vectorizer = TfidfVectorizer(tokenizer=makeTokens,max_features=150000)\n",
    "vectorizer.fit(df[\"URL\"])\n",
    "with open(\"tf-idf-vectorizer.pkl\",\"wb\") as f:\n",
    "    pickle.dump(vectorizer,f)"
   ]
  },
  {
   "cell_type": "code",
   "execution_count": null,
   "id": "dd290eb0",
   "metadata": {},
   "outputs": [],
   "source": [
    "with open(\"tf-idf-vectorizer.pkl\",\"rb\") as f:\n",
    "    vectorizer = pickle.load(f)\n",
    "X = vectorizer.transform(df[\"URL\"])\n",
    "y = df[\"Type\"]\n",
    "X_train, X_test, y_train, y_test = train_test_split(X, y, test_size=0.2, random_state=42)"
   ]
  },
  {
   "cell_type": "code",
   "execution_count": null,
   "id": "b4a99598",
   "metadata": {
    "scrolled": true
   },
   "outputs": [
    {
     "name": "stderr",
     "output_type": "stream",
     "text": [
      "C:\\Users\\ARUN\\anaconda3\\lib\\site-packages\\sklearn\\feature_extraction\\text.py:489: UserWarning: The parameter 'token_pattern' will not be used since 'tokenizer' is not None'\n",
      "  warnings.warn(\"The parameter 'token_pattern' will not be used\"\n"
     ]
    }
   ],
   "source": [
    "# pca training\n",
    "#vectorizer = TfidfVectorizer(tokenizer=makeTokens,max_features=8000)\n",
    "#vectorizer.fit(df[\"URL\"])\n",
    "#with open(\"pca.pkl\",\"wb\") as f:\n",
    " #   pickle.dump(vectorizer,f)"
   ]
  },
  {
   "cell_type": "code",
   "execution_count": null,
   "id": "122a6da4",
   "metadata": {},
   "outputs": [],
   "source": [
    "#with open(\"pca.pkl\",\"rb\") as f:\n",
    " #   vectorizer = pickle.load(f)\n",
    "#X = vectorizer.transform(df[\"URL\"])\n",
    "#y = df[\"Type\"]\n",
    "#X_train, X_test, y_train, y_test = train_test_split(X, y, test_size=0.2, random_state=42)"
   ]
  },
  {
   "cell_type": "code",
   "execution_count": null,
   "id": "aadcbfbe",
   "metadata": {},
   "outputs": [],
   "source": [
    "# model training\n",
    "model = LogisticRegression(max_iter=1000)\n",
    "model.fit(X_train, y_train)\n",
    "with open(\"logistic_regression_model.pkl\",\"wb\") as f:\n",
    "    pickle.dump(model,f)"
   ]
  },
  {
   "cell_type": "code",
   "execution_count": null,
   "id": "9619ec10",
   "metadata": {},
   "outputs": [],
   "source": [
    "with open(\"logistic_regression_model.pkl\",\"rb\") as f:\n",
    "    model = pickle.load(f)\n",
    "print(\"Train Score: \",model.score(X_train,y_train))\n",
    "print(\"Test Score: \",model.score(X_test,y_test))"
   ]
  },
  {
   "cell_type": "code",
   "execution_count": 153,
   "id": "6c0d3283",
   "metadata": {},
   "outputs": [],
   "source": [
    "# model training\n",
    "#model = GaussianNB()\n",
    "#model.fit(X_train.toarray(), y_train)\n",
    "#with open(\"gaussianNB_model.pkl\",\"wb\") as f:\n",
    " #   pickle.dump(model,f)"
   ]
  },
  {
   "cell_type": "code",
   "execution_count": null,
   "id": "fe7c0d8e",
   "metadata": {},
   "outputs": [],
   "source": [
    "#with open(\"logistic_regression_model.pkl\",\"rb\") as f:\n",
    "  #  model = pickle.load(f)\n",
    "#print(\"Train Score: \",model.score(X_train,y_train))\n",
    "#print(\"Test Score: \",model.score(X_test,y_test))"
   ]
  },
  {
   "cell_type": "code",
   "execution_count": null,
   "id": "2cfda91e",
   "metadata": {},
   "outputs": [],
   "source": [
    "y_pred = model.predict(X)\n",
    "print(df[\"URL\"][(y_pred==\"good\") & (y==\"bad\")])\n",
    "#print(X[(y_pred==0) & (y==1)])|"
   ]
  },
  {
   "cell_type": "code",
   "execution_count": null,
   "id": "fdacbe67",
   "metadata": {
    "scrolled": true
   },
   "outputs": [],
   "source": [
    "y_pred = model.predict(X)\n",
    "print(df[\"URL\"][(y_pred==\"bad\") & (y==\"good\")])"
   ]
  },
  {
   "cell_type": "code",
   "execution_count": null,
   "id": "49379d9b",
   "metadata": {},
   "outputs": [],
   "source": [
    "((y.values==0) & (y_pred==1)).sum()"
   ]
  },
  {
   "cell_type": "code",
   "execution_count": null,
   "id": "73bd1d2e",
   "metadata": {},
   "outputs": [],
   "source": [
    "X.shape"
   ]
  },
  {
   "cell_type": "code",
   "execution_count": null,
   "id": "21f7629f",
   "metadata": {},
   "outputs": [],
   "source": [
    "x_test = vectorizer.transform([\"http://www.hmaca.com/winnipeg-accounting-blog/tag/winnipeg-accpac-certified-consultant/index.html\",\n",
    "                              \"https://scikit-learn.org/stable/modules/generated/sklearn.feature_extraction.text.TfidfVectorizer.html\",\n",
    "                              \"http://www.ff-b2b.de\",\n",
    "                               \"https://annamalaiuniversity.ac.in/index.php\",\n",
    "                               \"https://www.rathikaramasamy.com/\",\n",
    "                              \"https://www.thepiratecity.co/\",\n",
    "                              \"http://yumurl.com/E6g84w\",\n",
    "                             \"https://mobiledata.buzz/freecharge/QkGGKROiA4nJ33s7k5zOfj\",\"www.flowdentals.com/tuk/turky.exe\"\n",
    "                              ])\n",
    "y_test = model.predict(x_test)"
   ]
  },
  {
   "cell_type": "code",
   "execution_count": null,
   "id": "9f7fa686",
   "metadata": {},
   "outputs": [],
   "source": [
    "y_test"
   ]
  },
  {
   "cell_type": "code",
   "execution_count": null,
   "id": "56dbd604",
   "metadata": {},
   "outputs": [],
   "source": []
  }
 ],
 "metadata": {
  "kernelspec": {
   "display_name": "Python 3 (ipykernel)",
   "language": "python",
   "name": "python3"
  },
  "language_info": {
   "codemirror_mode": {
    "name": "ipython",
    "version": 3
   },
   "file_extension": ".py",
   "mimetype": "text/x-python",
   "name": "python",
   "nbconvert_exporter": "python",
   "pygments_lexer": "ipython3",
   "version": "3.9.7"
  }
 },
 "nbformat": 4,
 "nbformat_minor": 5
}
